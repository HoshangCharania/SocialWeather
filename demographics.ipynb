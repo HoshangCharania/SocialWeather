{
 "cells": [
  {
   "cell_type": "code",
   "execution_count": 27,
   "metadata": {
    "collapsed": true
   },
   "outputs": [],
   "source": [
    "import urllib.request, json\n",
    "import pandas as pd\n",
    "import argparse\n",
    "import numpy as np\n",
    "from influxdb import InfluxDBClient"
   ]
  },
  {
   "cell_type": "code",
   "execution_count": 28,
   "metadata": {
    "collapsed": true
   },
   "outputs": [],
   "source": [
    "with urllib.request.urlopen(\"https://www.broadbandmap.gov/broadbandmap/demographic/jun2014/nation?format=json\") as url:data = json.loads(url.read().decode())"
   ]
  },
  {
   "cell_type": "code",
   "execution_count": 29,
   "metadata": {
    "collapsed": true
   },
   "outputs": [],
   "source": [
    "parsed= data['Results']"
   ]
  },
  {
   "cell_type": "code",
   "execution_count": 30,
   "metadata": {
    "collapsed": true
   },
   "outputs": [],
   "source": [
    "df4=pd.DataFrame(parsed, columns=[\"geographyName\", \"landArea\", \"population\", \"households\", \"raceWhite\", \"raceBlack\", \"raceHispanic\", \"raceAsian\", \"raceNativeAmerican\", \"incomeBelowPoverty\", \"medianIncome\", \"incomeLessThan25\",\"incomeBetween25to50\", \"incomeBetween50to100\", \"incomeBetween100to200\", \"incomeGreater200\", \"educationHighSchoolGraduate\", \"educationBachelorOrGreater\", \"ageUnder5\", \"ageBetween5to19\", \"ageBetween20to34\", \"ageBetween35to59\", \"ageGreaterThan60\", \"myAreaIndicator\"])"
   ]
  },
  {
   "cell_type": "code",
   "execution_count": 31,
   "metadata": {
    "collapsed": true
   },
   "outputs": [],
   "source": [
    "df4['Year']=2014"
   ]
  },
  {
   "cell_type": "code",
   "execution_count": 32,
   "metadata": {
    "collapsed": true
   },
   "outputs": [],
   "source": [
    "with urllib.request.urlopen(\"https://www.broadbandmap.gov/broadbandmap/demographic/jun2013/nation?format=json\") as url:data = json.loads(url.read().decode())"
   ]
  },
  {
   "cell_type": "code",
   "execution_count": 33,
   "metadata": {},
   "outputs": [],
   "source": [
    "parsed= data['Results']"
   ]
  },
  {
   "cell_type": "code",
   "execution_count": 34,
   "metadata": {
    "collapsed": true
   },
   "outputs": [],
   "source": [
    "df3=pd.DataFrame(parsed, columns=[\"geographyName\", \"landArea\", \"population\", \"households\", \"raceWhite\", \"raceBlack\", \"raceHispanic\", \"raceAsian\", \"raceNativeAmerican\", \"incomeBelowPoverty\", \"medianIncome\", \"incomeLessThan25\",\"incomeBetween25to50\", \"incomeBetween50to100\", \"incomeBetween100to200\", \"incomeGreater200\", \"educationHighSchoolGraduate\", \"educationBachelorOrGreater\", \"ageUnder5\", \"ageBetween5to19\", \"ageBetween20to34\", \"ageBetween35to59\", \"ageGreaterThan60\", \"myAreaIndicator\"])"
   ]
  },
  {
   "cell_type": "code",
   "execution_count": 35,
   "metadata": {
    "collapsed": true
   },
   "outputs": [],
   "source": [
    "df3['Year']=2013"
   ]
  },
  {
   "cell_type": "code",
   "execution_count": 36,
   "metadata": {},
   "outputs": [],
   "source": [
    "with urllib.request.urlopen(\"https://www.broadbandmap.gov/broadbandmap/demographic/jun2012/nation?format=json\") as url:data = json.loads(url.read().decode())"
   ]
  },
  {
   "cell_type": "code",
   "execution_count": 37,
   "metadata": {},
   "outputs": [],
   "source": [
    "parsed= data['Results']"
   ]
  },
  {
   "cell_type": "code",
   "execution_count": 38,
   "metadata": {
    "collapsed": true
   },
   "outputs": [],
   "source": [
    "df2=pd.DataFrame(parsed, columns=[\"geographyName\", \"landArea\", \"population\", \"households\", \"raceWhite\", \"raceBlack\", \"raceHispanic\", \"raceAsian\", \"raceNativeAmerican\", \"incomeBelowPoverty\", \"medianIncome\", \"incomeLessThan25\",\"incomeBetween25to50\", \"incomeBetween50to100\", \"incomeBetween100to200\", \"incomeGreater200\", \"educationHighSchoolGraduate\", \"educationBachelorOrGreater\", \"ageUnder5\", \"ageBetween5to19\", \"ageBetween20to34\", \"ageBetween35to59\", \"ageGreaterThan60\", \"myAreaIndicator\"])"
   ]
  },
  {
   "cell_type": "code",
   "execution_count": 39,
   "metadata": {
    "collapsed": true
   },
   "outputs": [],
   "source": [
    "df2['Year']=2012"
   ]
  },
  {
   "cell_type": "code",
   "execution_count": 40,
   "metadata": {},
   "outputs": [],
   "source": [
    "with urllib.request.urlopen(\"https://www.broadbandmap.gov/broadbandmap/demographic/jun2011/nation?format=json\") as url:data = json.loads(url.read().decode())"
   ]
  },
  {
   "cell_type": "code",
   "execution_count": 41,
   "metadata": {},
   "outputs": [],
   "source": [
    "parsed= data['Results']"
   ]
  },
  {
   "cell_type": "code",
   "execution_count": 42,
   "metadata": {
    "collapsed": true
   },
   "outputs": [],
   "source": [
    "df1=pd.DataFrame(parsed, columns=[\"geographyName\", \"landArea\", \"population\", \"households\", \"raceWhite\", \"raceBlack\", \"raceHispanic\", \"raceAsian\", \"raceNativeAmerican\", \"incomeBelowPoverty\", \"medianIncome\", \"incomeLessThan25\",\"incomeBetween25to50\", \"incomeBetween50to100\", \"incomeBetween100to200\", \"incomeGreater200\", \"educationHighSchoolGraduate\", \"educationBachelorOrGreater\", \"ageUnder5\", \"ageBetween5to19\", \"ageBetween20to34\", \"ageBetween35to59\", \"ageGreaterThan60\", \"myAreaIndicator\"])"
   ]
  },
  {
   "cell_type": "code",
   "execution_count": 43,
   "metadata": {
    "collapsed": true
   },
   "outputs": [],
   "source": [
    "df1['Year']=2011"
   ]
  },
  {
   "cell_type": "code",
   "execution_count": 44,
   "metadata": {
    "collapsed": true
   },
   "outputs": [],
   "source": [
    "frames = [df1, df2, df3, df4]\n",
    "result = pd.concat(frames)"
   ]
  },
  {
   "cell_type": "code",
   "execution_count": 45,
   "metadata": {
    "collapsed": true
   },
   "outputs": [],
   "source": [
    "result.to_csv(\"demo.csv\",index=False)"
   ]
  },
  {
   "cell_type": "code",
   "execution_count": 20,
   "metadata": {},
   "outputs": [
    {
     "name": "stdout",
     "output_type": "stream",
     "text": [
      "Create DataFrame\n",
      "[['geographyName', 'landArea', 'population', 'households', 'raceWhite', 'raceBlack', 'raceHispanic', 'raceAsian', 'raceNativeAmerican', 'incomeBelowPoverty', 'medianIncome', 'incomeLessThan25', 'incomeBetween25to50', 'incomeBetween50to100', 'incomeBetween100to200', 'incomeGreater200', 'educationHighSchoolGraduate', 'educationBachelorOrGreater', 'ageUnder5', 'ageBetween5to19', 'ageBetween20to34', 'ageBetween35to59', 'ageGreaterThan60', 'myAreaIndicator', 'Year\\n']]\n",
      "['geographyName', 'landArea', 'population', 'households', 'raceWhite', 'raceBlack', 'raceHispanic', 'raceAsian', 'raceNativeAmerican', 'incomeBelowPoverty', 'medianIncome', 'incomeLessThan25', 'incomeBetween25to50', 'incomeBetween50to100', 'incomeBetween100to200', 'incomeGreater200', 'educationHighSchoolGraduate', 'educationBachelorOrGreater', 'ageUnder5', 'ageBetween5to19', 'ageBetween20to34', 'ageBetween35to59', 'ageGreaterThan60', 'myAreaIndicator', 'Year']\n",
      "Create database: SocialWeather\n"
     ]
    }
   ],
   "source": [
    "brics = pd.read_csv(\"C:/Users/Swarupa/Desktop/demo.csv\", index_col=0);\n",
    "\n",
    "#print(brics)\n",
    "def read_data():\n",
    "    with open('C:/Users/Swarupa/Desktop/demo.csv') as f: #Input the name of your csv file here\n",
    "        return [x.split(',') for x in f.readlines()[1:]]\n",
    "def read_header():\n",
    "    with open('C:/Users/Swarupa/Desktop/demo.csv') as f: #Input the name of your csv file here\n",
    "        return [x.split(',') for x in f.readlines()[:1]]\n",
    "\n",
    "def main(host='localhost', port=8086):       #input your port number which has been set for influx\n",
    "    \"\"\"Instantiate the connection to the InfluxDB client.\"\"\"\n",
    "    user = 'Swarupa'\n",
    "    password = ''\n",
    "    dbname = 'SocialWeather'\n",
    "    # Temporarily avoid line protocol time conversion issues #412, #426, #431.\n",
    "    protocol = 'json'\n",
    "\n",
    "    client = InfluxDBClient(host, port, user, password, dbname)\n",
    "\n",
    "    print(\"Create DataFrame\");\n",
    "    b=read_header();\n",
    "    length=len(b);\n",
    "    print(b);\n",
    "    narr=(b[-1])\n",
    "    narr[-1]=narr[-1].split('\\n',1)[0]\n",
    "    print(narr); # getting /n (new line?,why?)\n",
    "    print(\"Create database: \" + dbname)\n",
    "    #client.create_database(dbname)\n",
    "    a = read_data();\n",
    "    for metric in a:\n",
    "        influx_metric = [{\n",
    "            'measurement': 'Demographics',\n",
    "            'tags': {\n",
    "                'landArea': metric[1],\n",
    "                'population': metric[2],\n",
    "                'households': metric[3],\n",
    "                'raceWhite': metric[4],\n",
    "                'raceBlack' :metric[5],\n",
    "                'raceHispanic':metric[6],\n",
    "                'raceHispanic' :metric[7],\n",
    "                'raceNativeAmerican' :metric[8],\n",
    "                'incomeBelowPoverty' :metric[9],\n",
    "                'medianIncome' :metric[10],\n",
    "                'incomeLessThan25' :metric[11],\n",
    "                'incomeBetween25to50' :metric[12],\n",
    "                'incomeBetween50to100' :metric[13],\n",
    "                'incomeBetween100to200' :metric[14],\n",
    "                'incomeGreater200' :metric[15],\n",
    "                'educationHighSchoolGraduate' :metric[16],\n",
    "                'educationBachelorOrGreater' :metric[17],\n",
    "                'ageUnder5' :metric[18],\n",
    "                'ageBetween5to19' :metric[19],\n",
    "                'ageBetween20to34' :metric[20],\n",
    "                'ageBetween35to59' :metric[21],\n",
    "                'ageGreaterThan60' :metric[22]\n",
    "            },\n",
    "            'time':str(metric[24])+\"-12-31\"+\"T00:00:00Z\",\n",
    "            'fields': {\n",
    "                'landArea': metric[1],\n",
    "                'population': metric[2],\n",
    "                'households': metric[3],\n",
    "                'raceWhite': metric[4],\n",
    "                'raceBlack' :metric[5],\n",
    "                'raceHispanic':metric[6],\n",
    "                'raceHispanic' :metric[7],\n",
    "                'raceNativeAmerican' :metric[8],\n",
    "                'incomeBelowPoverty' :metric[9],\n",
    "                'medianIncome' :metric[10],\n",
    "                'incomeLessThan25' :metric[11],\n",
    "                'incomeBetween25to50' :metric[12],\n",
    "                'incomeBetween50to100' :metric[13],\n",
    "                'incomeBetween100to200' :metric[14],\n",
    "                'incomeGreater200' :metric[15],\n",
    "                'educationHighSchoolGraduate' :metric[16],\n",
    "                'educationBachelorOrGreater' :metric[17],\n",
    "                'ageUnder5' :metric[18],\n",
    "                'ageBetween5to19' :metric[19],\n",
    "                'ageBetween20to34' :metric[20],\n",
    "                'ageBetween35to59' :metric[21],\n",
    "                'ageGreaterThan60' :metric[22]\n",
    "                \n",
    "            }\n",
    "            \n",
    "        }]\n",
    "        client.write_points(influx_metric)\n",
    "    \n",
    "if __name__ == '__main__':\n",
    "    main()\n"
   ]
  }
 ],
 "metadata": {
  "kernelspec": {
   "display_name": "Python 3",
   "language": "python",
   "name": "python3"
  },
  "language_info": {
   "codemirror_mode": {
    "name": "ipython",
    "version": 3
   },
   "file_extension": ".py",
   "mimetype": "text/x-python",
   "name": "python",
   "nbconvert_exporter": "python",
   "pygments_lexer": "ipython3",
   "version": "3.6.1"
  }
 },
 "nbformat": 4,
 "nbformat_minor": 2
}
