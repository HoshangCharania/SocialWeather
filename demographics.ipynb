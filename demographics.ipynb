{
 "cells": [
  {
   "cell_type": "code",
   "execution_count": 3,
   "metadata": {
    "collapsed": true
   },
   "outputs": [],
   "source": [
    "import urllib.request, json\n",
    "import pandas as pd\n",
    "import argparse\n",
    "import numpy as np\n",
    "from influxdb import InfluxDBClient"
   ]
  },
  {
   "cell_type": "code",
   "execution_count": 2,
   "metadata": {},
   "outputs": [
    {
     "name": "stdout",
     "output_type": "stream",
     "text": [
      "{'status': 'OK', 'responseTime': 80, 'message': [], 'Results': [{'geographyName': 'NATIONAL', 'landArea': 3856162.9352, 'population': 323785881, 'households': 140564824, 'raceWhite': 0.6932, 'raceBlack': 0.1119, 'raceHispanic': 0.1491, 'raceAsian': 0.0408, 'raceNativeAmerican': 0.0048, 'incomeBelowPoverty': 0.1581, 'medianIncome': 58811.0917, 'incomeLessThan25': 0.2404, 'incomeBetween25to50': 0.2458, 'incomeBetween50to100': 0.3066, 'incomeBetween100to200': 0.165, 'incomeGreater200': 0.0421, 'educationHighSchoolGraduate': 0.7993, 'educationBachelorOrGreater': 0.2484, 'ageUnder5': 0.0573, 'ageBetween5to19': 0.2076, 'ageBetween20to34': 0.1957, 'ageBetween35to59': 0.3266, 'ageGreaterThan60': 0.2128, 'myAreaIndicator': False}]}\n"
     ]
    }
   ],
   "source": [
    "with urllib.request.urlopen(\"https://www.broadbandmap.gov/broadbandmap/demographic/jun2014/nation?format=json\") as url:data = json.loads(url.read().decode())\n",
    "print(data)"
   ]
  },
  {
   "cell_type": "code",
   "execution_count": 3,
   "metadata": {},
   "outputs": [
    {
     "name": "stdout",
     "output_type": "stream",
     "text": [
      "[{'geographyName': 'NATIONAL', 'landArea': 3856162.9352, 'population': 323785881, 'households': 140564824, 'raceWhite': 0.6932, 'raceBlack': 0.1119, 'raceHispanic': 0.1491, 'raceAsian': 0.0408, 'raceNativeAmerican': 0.0048, 'incomeBelowPoverty': 0.1581, 'medianIncome': 58811.0917, 'incomeLessThan25': 0.2404, 'incomeBetween25to50': 0.2458, 'incomeBetween50to100': 0.3066, 'incomeBetween100to200': 0.165, 'incomeGreater200': 0.0421, 'educationHighSchoolGraduate': 0.7993, 'educationBachelorOrGreater': 0.2484, 'ageUnder5': 0.0573, 'ageBetween5to19': 0.2076, 'ageBetween20to34': 0.1957, 'ageBetween35to59': 0.3266, 'ageGreaterThan60': 0.2128, 'myAreaIndicator': False}]\n"
     ]
    }
   ],
   "source": [
    "parsed= data['Results']\n",
    "print(parsed)"
   ]
  },
  {
   "cell_type": "code",
   "execution_count": 4,
   "metadata": {
    "collapsed": true
   },
   "outputs": [],
   "source": [
    "df4=pd.DataFrame(parsed, columns=[\"geographyName\", \"landArea\", \"population\", \"households\", \"raceWhite\", \"raceBlack\", \"raceHispanic\", \"raceAsian\", \"raceNativeAmerican\", \"incomeBelowPoverty\", \"medianIncome\", \"incomeLessThan25\",\"incomeBetween25to50\", \"incomeBetween50to100\", \"incomeBetween100to200\", \"incomeGreater200\", \"educationHighSchoolGraduate\", \"educationBachelorOrGreater\", \"ageUnder5\", \"ageBetween5to19\", \"ageBetween20to34\", \"ageBetween35to59\", \"ageGreaterThan60\", \"myAreaIndicator\"])\n"
   ]
  },
  {
   "cell_type": "code",
   "execution_count": 5,
   "metadata": {
    "collapsed": true
   },
   "outputs": [],
   "source": [
    "df4['Year']=2014"
   ]
  },
  {
   "cell_type": "code",
   "execution_count": 6,
   "metadata": {},
   "outputs": [
    {
     "name": "stdout",
     "output_type": "stream",
     "text": [
      "{'status': 'OK', 'responseTime': 5988, 'message': [], 'Results': [{'geographyName': 'NATIONAL', 'landArea': 3856162.9352, 'population': 321324979, 'households': 138505691, 'raceWhite': 0.6996, 'raceBlack': 0.1113, 'raceHispanic': 0.1435, 'raceAsian': 0.0405, 'raceNativeAmerican': 0.005, 'incomeBelowPoverty': 0.1583, 'medianIncome': 58522.3957, 'incomeLessThan25': 0.2407, 'incomeBetween25to50': 0.2997, 'incomeBetween50to100': 0.3064, 'incomeBetween100to200': 0.1648, 'incomeGreater200': 0.0421, 'educationHighSchoolGraduate': 0.8003, 'educationBachelorOrGreater': 0.2483, 'ageUnder5': 0.0697, 'ageBetween5to19': 0.2043, 'ageBetween20to34': 0.1921, 'ageBetween35to59': 0.325, 'ageGreaterThan60': 0.2088, 'myAreaIndicator': False}]}\n"
     ]
    }
   ],
   "source": [
    "with urllib.request.urlopen(\"https://www.broadbandmap.gov/broadbandmap/demographic/jun2013/nation?format=json\") as url:data = json.loads(url.read().decode())\n",
    "print(data)"
   ]
  },
  {
   "cell_type": "code",
   "execution_count": 7,
   "metadata": {},
   "outputs": [
    {
     "name": "stdout",
     "output_type": "stream",
     "text": [
      "[{'geographyName': 'NATIONAL', 'landArea': 3856162.9352, 'population': 321324979, 'households': 138505691, 'raceWhite': 0.6996, 'raceBlack': 0.1113, 'raceHispanic': 0.1435, 'raceAsian': 0.0405, 'raceNativeAmerican': 0.005, 'incomeBelowPoverty': 0.1583, 'medianIncome': 58522.3957, 'incomeLessThan25': 0.2407, 'incomeBetween25to50': 0.2997, 'incomeBetween50to100': 0.3064, 'incomeBetween100to200': 0.1648, 'incomeGreater200': 0.0421, 'educationHighSchoolGraduate': 0.8003, 'educationBachelorOrGreater': 0.2483, 'ageUnder5': 0.0697, 'ageBetween5to19': 0.2043, 'ageBetween20to34': 0.1921, 'ageBetween35to59': 0.325, 'ageGreaterThan60': 0.2088, 'myAreaIndicator': False}]\n"
     ]
    }
   ],
   "source": [
    "parsed= data['Results']\n",
    "print(parsed)"
   ]
  },
  {
   "cell_type": "code",
   "execution_count": 8,
   "metadata": {
    "collapsed": true
   },
   "outputs": [],
   "source": [
    "df3=pd.DataFrame(parsed, columns=[\"geographyName\", \"landArea\", \"population\", \"households\", \"raceWhite\", \"raceBlack\", \"raceHispanic\", \"raceAsian\", \"raceNativeAmerican\", \"incomeBelowPoverty\", \"medianIncome\", \"incomeLessThan25\",\"incomeBetween25to50\", \"incomeBetween50to100\", \"incomeBetween100to200\", \"incomeGreater200\", \"educationHighSchoolGraduate\", \"educationBachelorOrGreater\", \"ageUnder5\", \"ageBetween5to19\", \"ageBetween20to34\", \"ageBetween35to59\", \"ageGreaterThan60\", \"myAreaIndicator\"])\n"
   ]
  },
  {
   "cell_type": "code",
   "execution_count": 9,
   "metadata": {
    "collapsed": true
   },
   "outputs": [],
   "source": [
    "df3['Year']=2013"
   ]
  },
  {
   "cell_type": "code",
   "execution_count": 10,
   "metadata": {},
   "outputs": [
    {
     "name": "stdout",
     "output_type": "stream",
     "text": [
      "{'status': 'OK', 'responseTime': 5993, 'message': [], 'Results': [{'geographyName': 'NATIONAL', 'landArea': 3856162.9352, 'population': 318634850, 'households': 136714122, 'raceWhite': 0.7049, 'raceBlack': 0.1131, 'raceHispanic': 0.1364, 'raceAsian': 0.0404, 'raceNativeAmerican': 0.005, 'incomeBelowPoverty': 0.1582, 'medianIncome': 58283.0575, 'incomeLessThan25': 0.2408, 'incomeBetween25to50': 0.2997, 'incomeBetween50to100': 0.3064, 'incomeBetween100to200': 0.1648, 'incomeGreater200': 0.0421, 'educationHighSchoolGraduate': 0.8, 'educationBachelorOrGreater': 0.2477, 'ageUnder5': 0.0516, 'ageBetween5to19': 0.2045, 'ageBetween20to34': 0.1975, 'ageBetween35to59': 0.336, 'ageGreaterThan60': 0.2104, 'myAreaIndicator': False}]}\n"
     ]
    }
   ],
   "source": [
    "with urllib.request.urlopen(\"https://www.broadbandmap.gov/broadbandmap/demographic/jun2012/nation?format=json\") as url:data = json.loads(url.read().decode())\n",
    "print(data)"
   ]
  },
  {
   "cell_type": "code",
   "execution_count": 11,
   "metadata": {},
   "outputs": [
    {
     "name": "stdout",
     "output_type": "stream",
     "text": [
      "[{'geographyName': 'NATIONAL', 'landArea': 3856162.9352, 'population': 318634850, 'households': 136714122, 'raceWhite': 0.7049, 'raceBlack': 0.1131, 'raceHispanic': 0.1364, 'raceAsian': 0.0404, 'raceNativeAmerican': 0.005, 'incomeBelowPoverty': 0.1582, 'medianIncome': 58283.0575, 'incomeLessThan25': 0.2408, 'incomeBetween25to50': 0.2997, 'incomeBetween50to100': 0.3064, 'incomeBetween100to200': 0.1648, 'incomeGreater200': 0.0421, 'educationHighSchoolGraduate': 0.8, 'educationBachelorOrGreater': 0.2477, 'ageUnder5': 0.0516, 'ageBetween5to19': 0.2045, 'ageBetween20to34': 0.1975, 'ageBetween35to59': 0.336, 'ageGreaterThan60': 0.2104, 'myAreaIndicator': False}]\n"
     ]
    }
   ],
   "source": [
    "parsed= data['Results']\n",
    "print(parsed)"
   ]
  },
  {
   "cell_type": "code",
   "execution_count": 12,
   "metadata": {
    "collapsed": true
   },
   "outputs": [],
   "source": [
    "df2=pd.DataFrame(parsed, columns=[\"geographyName\", \"landArea\", \"population\", \"households\", \"raceWhite\", \"raceBlack\", \"raceHispanic\", \"raceAsian\", \"raceNativeAmerican\", \"incomeBelowPoverty\", \"medianIncome\", \"incomeLessThan25\",\"incomeBetween25to50\", \"incomeBetween50to100\", \"incomeBetween100to200\", \"incomeGreater200\", \"educationHighSchoolGraduate\", \"educationBachelorOrGreater\", \"ageUnder5\", \"ageBetween5to19\", \"ageBetween20to34\", \"ageBetween35to59\", \"ageGreaterThan60\", \"myAreaIndicator\"])\n"
   ]
  },
  {
   "cell_type": "code",
   "execution_count": 13,
   "metadata": {
    "collapsed": true
   },
   "outputs": [],
   "source": [
    "df2['Year']=2012"
   ]
  },
  {
   "cell_type": "code",
   "execution_count": 14,
   "metadata": {},
   "outputs": [
    {
     "name": "stdout",
     "output_type": "stream",
     "text": [
      "{'status': 'OK', 'responseTime': 5838, 'message': [], 'Results': [{'geographyName': 'NATIONAL', 'landArea': 3856162.9352, 'population': 316673646, 'households': 134418705, 'raceWhite': 0.7082, 'raceBlack': 0.1241, 'raceHispanic': 0.1086, 'raceAsian': 0.0479, 'raceNativeAmerican': 0.0093, 'incomeBelowPoverty': 0.1588, 'medianIncome': 54838.3594, 'incomeLessThan25': 0.2862, 'incomeBetween25to50': 0.2899, 'incomeBetween50to100': 0.2997, 'incomeBetween100to200': 0.1005, 'incomeGreater200': 0.0236, 'educationHighSchoolGraduate': 0.7964, 'educationBachelorOrGreater': 0.2463, 'ageUnder5': 0.0529, 'ageBetween5to19': 0.2007, 'ageBetween20to34': 0.1946, 'ageBetween35to59': 0.3313, 'ageGreaterThan60': 0.2205, 'myAreaIndicator': False}]}\n"
     ]
    }
   ],
   "source": [
    "with urllib.request.urlopen(\"https://www.broadbandmap.gov/broadbandmap/demographic/jun2011/nation?format=json\") as url:data = json.loads(url.read().decode())\n",
    "print(data)"
   ]
  },
  {
   "cell_type": "code",
   "execution_count": 15,
   "metadata": {},
   "outputs": [
    {
     "name": "stdout",
     "output_type": "stream",
     "text": [
      "[{'geographyName': 'NATIONAL', 'landArea': 3856162.9352, 'population': 316673646, 'households': 134418705, 'raceWhite': 0.7082, 'raceBlack': 0.1241, 'raceHispanic': 0.1086, 'raceAsian': 0.0479, 'raceNativeAmerican': 0.0093, 'incomeBelowPoverty': 0.1588, 'medianIncome': 54838.3594, 'incomeLessThan25': 0.2862, 'incomeBetween25to50': 0.2899, 'incomeBetween50to100': 0.2997, 'incomeBetween100to200': 0.1005, 'incomeGreater200': 0.0236, 'educationHighSchoolGraduate': 0.7964, 'educationBachelorOrGreater': 0.2463, 'ageUnder5': 0.0529, 'ageBetween5to19': 0.2007, 'ageBetween20to34': 0.1946, 'ageBetween35to59': 0.3313, 'ageGreaterThan60': 0.2205, 'myAreaIndicator': False}]\n"
     ]
    }
   ],
   "source": [
    "parsed= data['Results']\n",
    "print(parsed)"
   ]
  },
  {
   "cell_type": "code",
   "execution_count": 16,
   "metadata": {
    "collapsed": true
   },
   "outputs": [],
   "source": [
    "df1=pd.DataFrame(parsed, columns=[\"geographyName\", \"landArea\", \"population\", \"households\", \"raceWhite\", \"raceBlack\", \"raceHispanic\", \"raceAsian\", \"raceNativeAmerican\", \"incomeBelowPoverty\", \"medianIncome\", \"incomeLessThan25\",\"incomeBetween25to50\", \"incomeBetween50to100\", \"incomeBetween100to200\", \"incomeGreater200\", \"educationHighSchoolGraduate\", \"educationBachelorOrGreater\", \"ageUnder5\", \"ageBetween5to19\", \"ageBetween20to34\", \"ageBetween35to59\", \"ageGreaterThan60\", \"myAreaIndicator\"])\n"
   ]
  },
  {
   "cell_type": "code",
   "execution_count": 17,
   "metadata": {
    "collapsed": true
   },
   "outputs": [],
   "source": [
    "df1['Year']=2011"
   ]
  },
  {
   "cell_type": "code",
   "execution_count": 18,
   "metadata": {
    "collapsed": true
   },
   "outputs": [],
   "source": [
    "frames = [df1, df2, df3, df4]\n",
    "result = pd.concat(frames)"
   ]
  },
  {
   "cell_type": "code",
   "execution_count": 19,
   "metadata": {
    "collapsed": true
   },
   "outputs": [],
   "source": [
    "result.to_csv(\"demo.csv\",index=False)"
   ]
  },
  {
   "cell_type": "code",
   "execution_count": 5,
   "metadata": {},
   "outputs": [
    {
     "name": "stdout",
     "output_type": "stream",
     "text": [
      "Create DataFrame\n",
      "[['geographyName', 'landArea', 'population', 'households', 'raceWhite', 'raceBlack', 'raceHispanic', 'raceAsian', 'raceNativeAmerican', 'incomeBelowPoverty', 'medianIncome', 'incomeLessThan25', 'incomeBetween25to50', 'incomeBetween50to100', 'incomeBetween100to200', 'incomeGreater200', 'educationHighSchoolGraduate', 'educationBachelorOrGreater', 'ageUnder5', 'ageBetween5to19', 'ageBetween20to34', 'ageBetween35to59', 'ageGreaterThan60', 'myAreaIndicator', 'Year\\n']]\n",
      "['geographyName', 'landArea', 'population', 'households', 'raceWhite', 'raceBlack', 'raceHispanic', 'raceAsian', 'raceNativeAmerican', 'incomeBelowPoverty', 'medianIncome', 'incomeLessThan25', 'incomeBetween25to50', 'incomeBetween50to100', 'incomeBetween100to200', 'incomeGreater200', 'educationHighSchoolGraduate', 'educationBachelorOrGreater', 'ageUnder5', 'ageBetween5to19', 'ageBetween20to34', 'ageBetween35to59', 'ageGreaterThan60', 'myAreaIndicator', 'Year']\n",
      "Create database: SocialWeather\n"
     ]
    }
   ],
   "source": [
    "brics = pd.read_csv(\"C:/Users/Swarupa/Desktop/demo.csv\", index_col=0);\n",
    "\n",
    "#print(brics)\n",
    "def read_data():\n",
    "    with open('C:/Users/Swarupa/Desktop/demo.csv') as f: #Input the name of your csv file here\n",
    "        return [x.split(',') for x in f.readlines()[1:]]\n",
    "def read_header():\n",
    "    with open('C:/Users/Swarupa/Desktop/demo.csv') as f: #Input the name of your csv file here\n",
    "        return [x.split(',') for x in f.readlines()[:1]]\n",
    "\n",
    "def main(host='localhost', port=8086):       #input your port number which has been set for influx\n",
    "    \"\"\"Instantiate the connection to the InfluxDB client.\"\"\"\n",
    "    user = 'Swarupa'\n",
    "    password = ''\n",
    "    dbname = 'SocialWeather'\n",
    "    # Temporarily avoid line protocol time conversion issues #412, #426, #431.\n",
    "    protocol = 'json'\n",
    "\n",
    "    client = InfluxDBClient(host, port, user, password, dbname)\n",
    "\n",
    "    print(\"Create DataFrame\");\n",
    "    b=read_header();\n",
    "    length=len(b);\n",
    "    print(b);\n",
    "    narr=(b[-1])\n",
    "    narr[-1]=narr[-1].split('\\n',1)[0]\n",
    "    print(narr); # getting /n (new line?,why?)\n",
    "    print(\"Create database: \" + dbname)\n",
    "    #client.create_database(dbname)\n",
    "    a = read_data();\n",
    "    for metric in a:\n",
    "        influx_metric = [{\n",
    "            'measurement': 'Demographics',\n",
    "            'tags': {\n",
    "                'geographyName': metric[0]\n",
    "            },\n",
    "            'time':str(metric[24])+\"-12-31\"+\"T00:00:00Z\",\n",
    "            'fields': {\n",
    "                'landArea': metric[1],\n",
    "                'population': metric[2],\n",
    "                'households': metric[3],\n",
    "                'raceWhite': metric[4],\n",
    "                'raceBlack' :metric[5],\n",
    "                'raceHispanic':metric[6],\n",
    "                'raceHispanic' :metric[7],\n",
    "                'raceNativeAmerican' :metric[8],\n",
    "                'incomeBelowPoverty' :metric[9],\n",
    "                'medianIncome' :metric[10],\n",
    "                'incomeLessThan25' :metric[11],\n",
    "                'incomeBetween25to50' :metric[12],\n",
    "                'incomeBetween50to100' :metric[13],\n",
    "                'incomeBetween100to200' :metric[14],\n",
    "                'incomeGreater200' :metric[15],\n",
    "                'educationHighSchoolGraduate' :metric[16],\n",
    "                'educationBachelorOrGreater' :metric[17],\n",
    "                'ageUnder5' :metric[18],\n",
    "                'ageBetween5to19' :metric[19],\n",
    "                'ageBetween20to34' :metric[20],\n",
    "                'ageBetween35to59' :metric[21],\n",
    "                'ageGreaterThan60' :metric[22],\n",
    "                'myAreaIndicator' :metric[23],\n",
    "            }\n",
    "            \n",
    "        }]\n",
    "        client.write_points(influx_metric)\n",
    "    \n",
    "if __name__ == '__main__':\n",
    "    main()\n"
   ]
  }
 ],
 "metadata": {
  "kernelspec": {
   "display_name": "Python 3",
   "language": "python",
   "name": "python3"
  },
  "language_info": {
   "codemirror_mode": {
    "name": "ipython",
    "version": 3
   },
   "file_extension": ".py",
   "mimetype": "text/x-python",
   "name": "python",
   "nbconvert_exporter": "python",
   "pygments_lexer": "ipython3",
   "version": "3.6.1"
  }
 },
 "nbformat": 4,
 "nbformat_minor": 2
}
