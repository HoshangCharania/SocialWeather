{
 "cells": [
  {
   "cell_type": "code",
   "execution_count": null,
   "metadata": {
    "collapsed": true
   },
   "outputs": [],
   "source": [
    "import pandas as pd\n",
    "import numpy as np"
   ]
  },
  {
   "cell_type": "code",
   "execution_count": null,
   "metadata": {
    "collapsed": true
   },
   "outputs": [],
   "source": [
    "df = pd.read_csv('worldbank.csv')"
   ]
  },
  {
   "cell_type": "code",
   "execution_count": null,
   "metadata": {
    "collapsed": false
   },
   "outputs": [],
   "source": [
    "df[0:5]"
   ]
  },
  {
   "cell_type": "code",
   "execution_count": null,
   "metadata": {
    "collapsed": false
   },
   "outputs": [],
   "source": [
    "import pandas as pd\n",
    "import argparse\n",
    "import numpy as np\n",
    "from influxdb import InfluxDBClient\n",
    "\n",
    "#print(brics)\n",
    "def read_data():\n",
    "    with open('worldbank.csv') as f: #Input the name of your csv file here\n",
    "        return [x.split(',') for x in f.readlines()[1:]]\n",
    "def read_header():\n",
    "    with open('worldbank.csv') as f: #Input the name of your csv file here\n",
    "        return [x.split(',') for x in f.readlines()[:1]]\n",
    "\n",
    "def main(host='localhost', port=8086):       #input your port number which has been set for influx\n",
    "    \"\"\"Instantiate the connection to the InfluxDB client.\"\"\"\n",
    "    user = 'admin'\n",
    "    password = 'admin'\n",
    "    dbname = 'worldbankdb'\n",
    "    # Temporarily avoid line protocol time conversion issues #412, #426, #431.\n",
    "    protocol = 'json'\n",
    "\n",
    "    client = InfluxDBClient(host, port, user, password, dbname)\n",
    "\n",
    "    print(\"Create DataFrame\");\n",
    "    b=read_header();\n",
    "    arr = np.array([b]);\n",
    "    print(arr)\n",
    "    narr=np.delete(arr,0) # remove the date column\n",
    "    print(narr)\n",
    "    length=len(narr);\n",
    "    print(narr); # getting /n (new line?,why?)\n",
    "    narr[length-1]=narr[length-1].replace(\"\\n\",\"\"); \n",
    "    print(narr); #removed /n\n",
    "    a=read_data()\n",
    "    date=1960\n",
    "    print(narr); #removed /n\n",
    "    print(\"Create database: \" + dbname)\n",
    "    client.create_database(dbname)\n",
    "    j=0;\n",
    "    for i in range(len(narr)):\n",
    "        j=j+1;\n",
    "        for metric in a:\n",
    "            metric[j]=metric[j].replace(\"\\n\",\"\"); # same as line 31\n",
    "            narr[i]\n",
    "            print(narr[i],metric[j],str(date)+\"-12-31\"+\"T00:00:00Z\")\n",
    "            influx_metric = [{\n",
    "                'measurement': 'worldbank', #name of the table \n",
    "                'tags': {\n",
    "                    'items': narr[i]#name of column\n",
    "                },\n",
    "                'time': str(date)+\"-12-31\"+\"T00:00:00Z\",\n",
    "                'fields': {\n",
    "                    'value': metric[j] #value of field\n",
    "                }\n",
    "            }]\n",
    "            client.write_points(influx_metric)\n",
    "            date=date+1;\n",
    "\n",
    "main()"
   ]
  },
  {
   "cell_type": "code",
   "execution_count": null,
   "metadata": {
    "collapsed": true
   },
   "outputs": [],
   "source": [
    "df2 = pd.read_csv('internet.csv')"
   ]
  },
  {
   "cell_type": "code",
   "execution_count": null,
   "metadata": {
    "collapsed": false
   },
   "outputs": [],
   "source": [
    "df2[1:5]"
   ]
  },
  {
   "cell_type": "code",
   "execution_count": null,
   "metadata": {
    "collapsed": false
   },
   "outputs": [],
   "source": [
    "import pandas as pd\n",
    "import argparse\n",
    "import numpy as np\n",
    "from influxdb import InfluxDBClient\n",
    "\n",
    "#print(brics)\n",
    "def read_data():\n",
    "    with open('internet.csv') as f: #Input the name of your csv file here\n",
    "        return [x.split(',') for x in f.readlines()[1:]]\n",
    "def read_header():\n",
    "    with open('internet.csv') as f: #Input the name of your csv file here\n",
    "        return [x.split(',') for x in f.readlines()[:1]]\n",
    "\n",
    "def main(host='localhost', port=8086):       #input your port number which has been set for influx\n",
    "    \"\"\"Instantiate the connection to the InfluxDB client.\"\"\"\n",
    "    user = 'admin'\n",
    "    password = 'admin'\n",
    "    dbname = 'internet'\n",
    "    # Temporarily avoid line protocol time conversion issues #412, #426, #431.\n",
    "    protocol = 'json'\n",
    "\n",
    "    client = InfluxDBClient(host, port, user, password, dbname)\n",
    "\n",
    "    print(\"Create DataFrame\");\n",
    "    b=read_header();\n",
    "    arr = np.array([b]);\n",
    "    print(arr)\n",
    "    narr=np.delete(arr,0) # remove the date column\n",
    "    print(narr)\n",
    "    length=len(narr);\n",
    "    print(narr); # getting /n (new line?,why?)\n",
    "    narr[length-1]=narr[length-1].replace(\"\\n\",\"\"); \n",
    "    print(narr); #removed /n\n",
    "    a=read_data()\n",
    "    date=1990\n",
    "    print(narr); #removed /n\n",
    "    print(\"Create database: \" + dbname)\n",
    "    client.create_database(dbname)\n",
    "    j=0;\n",
    "    for i in range(len(narr)):\n",
    "        j=j+1;\n",
    "        for metric in a:\n",
    "            metric[j]=metric[j].replace(\"\\n\",\"\"); # same as line 31\n",
    "            narr[i]\n",
    "            print(narr[i],metric[j],str(date)+\"-12-31\"+\"T00:00:00Z\")\n",
    "            influx_metric = [{\n",
    "                'measurement': 'internet', #name of the table \n",
    "                'tags': {\n",
    "                    'items': narr[i]#name of column\n",
    "                },\n",
    "                'time': str(date)+\"-12-31\"+\"T00:00:00Z\",\n",
    "                'fields': {\n",
    "                    'value': metric[j] #value of field\n",
    "                }\n",
    "            }]\n",
    "            client.write_points(influx_metric)\n",
    "            date=date+1;\n",
    "\n",
    "main()"
   ]
  },
  {
   "cell_type": "code",
   "execution_count": null,
   "metadata": {
    "collapsed": true
   },
   "outputs": [],
   "source": [
    "#done"
   ]
  },
  {
   "cell_type": "code",
   "execution_count": null,
   "metadata": {
    "collapsed": true
   },
   "outputs": [],
   "source": []
  }
 ],
 "metadata": {
  "anaconda-cloud": {},
  "kernelspec": {
   "display_name": "Python [conda root]",
   "language": "python",
   "name": "conda-root-py"
  },
  "language_info": {
   "codemirror_mode": {
    "name": "ipython",
    "version": 3
   },
   "file_extension": ".py",
   "mimetype": "text/x-python",
   "name": "python",
   "nbconvert_exporter": "python",
   "pygments_lexer": "ipython3",
   "version": "3.5.2"
  }
 },
 "nbformat": 4,
 "nbformat_minor": 1
}
