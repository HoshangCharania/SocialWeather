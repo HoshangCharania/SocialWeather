import pandas as pd
import argparse
import numpy as np
from influxdb import InfluxDBClient

#print(brics)
def read_data():
    with open('worldbank.csv') as f: #Input the name of your csv file here
        return [x.split(',') for x in f.readlines()[1:]]
def read_header():
    with open('worldbank.csv') as f: #Input the name of your csv file here
        return [x.split(',') for x in f.readlines()[:1]]

def main(host='localhost', port=8086):       #input your port number which has been set for influx
    """Instantiate the connection to the InfluxDB client."""
    user = 'admin'
    password = 'admin'
    dbname = 'worldbankdb'
    # Temporarily avoid line protocol time conversion issues #412, #426, #431.
    protocol = 'json'

    client = InfluxDBClient(host, port, user, password, dbname)

    print("Create DataFrame");
    b=read_header();
    arr = np.array([b]);
    print(arr)
    narr=np.delete(arr,0) # remove the date column
    print(narr)
    length=len(narr);
    print(narr); # getting /n (new line?,why?)
    narr[length-1]=narr[length-1].replace("\n",""); 
    print(narr); #removed /n
    a=read_data()
    date=1960
    print(narr); #removed /n
    print("Create database: " + dbname)
    client.create_database(dbname)
    j=0;
    for i in range(len(narr)):
        j=j+1;
        for metric in a:
            metric[j]=metric[j].replace("\n",""); # same as line 31
            narr[i]
            print(narr[i],metric[j],str(date)+"-12-31"+"T00:00:00Z")
            influx_metric = [{
                'measurement': 'wordbank', #name of the table 
                'tags': {
                    'items': narr[i]#name of column
                },
                'time': str(date)+"-12-31"+"T00:00:00Z",
                'fields': {
                    'value': metric[j] #value of field
                }
            }]
            client.write_points(influx_metric)
            date=date+1;

main()
